{
 "cells": [
  {
   "cell_type": "code",
   "execution_count": 22,
   "metadata": {},
   "outputs": [],
   "source": [
    "import tensorflow as tf\n",
    "tf.enable_eager_execution()\n",
    "import numpy as np\n",
    "import matplotlib.pyplot as plt\n"
   ]
  },
  {
   "cell_type": "code",
   "execution_count": 23,
   "metadata": {},
   "outputs": [],
   "source": [
    "is_eager_enabled = tf.executing_eagerly()\n",
    "assert is_eager_enabled,      \"Tensorflow eager mode is not enabled\""
   ]
  },
  {
   "cell_type": "code",
   "execution_count": 24,
   "metadata": {},
   "outputs": [
    {
     "name": "stdout",
     "output_type": "stream",
     "text": [
      "tf.Tensor(76, shape=(), dtype=int32)\n"
     ]
    }
   ],
   "source": [
    "# Create the nodes in the graph, and initialize values\n",
    "a = tf.constant(15, name=\"a\")\n",
    "b = tf.constant(61, name=\"b\")\n",
    "\n",
    "# Add them!\n",
    "c = tf.add(a,b, name=\"c\")\n",
    "print(c)"
   ]
  },
  {
   "cell_type": "code",
   "execution_count": 27,
   "metadata": {},
   "outputs": [
    {
     "name": "stdout",
     "output_type": "stream",
     "text": [
      "tf.Tensor(4712, shape=(), dtype=int32)\n"
     ]
    }
   ],
   "source": [
    "\n",
    "# Construct a simple computation graph\n",
    "def graph(a,b):\n",
    "  '''TODO: Define the operation for c, d, e (use tf.add, tf.subtract, tf.multiply).'''\n",
    "  c = tf.add(a,b, name=\"c\")\n",
    "  d = tf.subtract(b,-1, name=\"d\")\n",
    "  e = tf.multiply(c,d, name=\"e\")\n",
    "  return e\n",
    "m=graph(a,b)\n",
    "print(m)"
   ]
  },
  {
   "cell_type": "code",
   "execution_count": 48,
   "metadata": {},
   "outputs": [],
   "source": [
    "# n_in: number of inputs\n",
    "# n_out: number of outputs\n",
    "def our_dense_layer(x, n_in, n_out):\n",
    "  # Define and initialize parameters, a weight matrix W and biases b\n",
    "  W = tf.Variable(tf.ones((n_in, n_out)))\n",
    "  b = tf.Variable(tf.zeros((1, n_out)))\n",
    "  \n",
    "  '''TODO: define the operation for z (hint: use tf.matmul)'''\n",
    "  z = tf.matmul(x,W) + b\n",
    "  \n",
    "  '''TODO: define the operation for out (hint: use tf.sigmoid)'''\n",
    "  out = tf.sigmoid(z)\n",
    "  return out\n"
   ]
  },
  {
   "cell_type": "code",
   "execution_count": 50,
   "metadata": {},
   "outputs": [
    {
     "name": "stdout",
     "output_type": "stream",
     "text": [
      "tf.Tensor([[0.95257413 0.95257413 0.95257413]], shape=(1, 3), dtype=float32)\n"
     ]
    }
   ],
   "source": [
    "'''TODO: define an example input x_input'''\n",
    "x_input = tf.constant([[1,2.]], shape=(1,2))\n",
    "'''TODO: call `our_dense_layer` to get the output of the network!'''\n",
    "print (our_dense_layer(x_input, n_in=2, n_out=3))\n"
   ]
  },
  {
   "cell_type": "code",
   "execution_count": 56,
   "metadata": {},
   "outputs": [],
   "source": [
    "# Import relevant packages\n",
    "from tensorflow.keras import Sequential\n",
    "from tensorflow.keras.layers import Dense\n",
    "\n",
    "# Define the number of inputs and outputs\n",
    "n_input_nodes = 2\n",
    "n_output_nodes = 3\n",
    "\n",
    "# First define the model \n",
    "model = Sequential()\n",
    "\n",
    "\n",
    "'''TODO: Define a dense (fully connected) layer to compute z'''\n",
    "# Remember: dense layers are defined by the parameters W and b!\n",
    "# You can read more about the initialization of W and b in the TF documentation :) \n",
    "dense_layer = Dense(n_output_nodes, input_shape=(n_input_nodes,),activation='sigmoid')\n",
    "\n",
    "# Add the dense layer to the model\n",
    "model.add(dense_layer)"
   ]
  },
  {
   "cell_type": "code",
   "execution_count": 57,
   "metadata": {},
   "outputs": [
    {
     "name": "stdout",
     "output_type": "stream",
     "text": [
      "tf.Tensor([[0.71126676 0.90029687 0.88408744]], shape=(1, 3), dtype=float32)\n"
     ]
    }
   ],
   "source": [
    "# Test model with example input\n",
    "x_input = tf.constant([[1,2.]], shape=(1,2))\n",
    "\n",
    "'''TODO: feed input into the model and predict the output!'''\n",
    "print (model(x_input))\n"
   ]
  },
  {
   "cell_type": "code",
   "execution_count": 69,
   "metadata": {},
   "outputs": [
    {
     "name": "stdout",
     "output_type": "stream",
     "text": [
      "Initializing x=[[2.4305012]]\n"
     ]
    },
    {
     "data": {
      "text/plain": [
       "Text(0, 0.5, 'x value')"
      ]
     },
     "execution_count": 69,
     "metadata": {},
     "output_type": "execute_result"
    },
    {
     "data": {
      "image/png": "[encoded data removed]",
      "text/plain": [
       "<Figure size 432x288 with 1 Axes>"
      ]
     },
     "metadata": {
      "needs_background": "light"
     },
     "output_type": "display_data"
    }
   ],
   "source": [
    "x = tf.Variable([tf.random.normal([1])])\n",
    "print (\"Initializing x={}\".format(x.numpy()))\n",
    "learning_rate = 1e-2\n",
    "history = []\n",
    "\n",
    "for i in range(500):\n",
    "  with tf.GradientTape() as tape:\n",
    "    y = (x - 1)**2 # record the forward pass on the tape\n",
    "\n",
    "  grad = tape.gradient(y, x) # compute the gradient of y with respect to x\n",
    "  new_x = x - learning_rate*grad # sgd update\n",
    "  x.assign(new_x) # update the value of x\n",
    "  history.append(x.numpy()[0])\n",
    "\n",
    "plt.plot(history)\n",
    "plt.plot([0, 500],[1,1])\n",
    "plt.legend(('Predicted', 'True'))\n",
    "plt.xlabel('Iteration')\n",
    "plt.ylabel('x value')"
   ]
  },
  {
   "cell_type": "code",
   "execution_count": 78,
   "metadata": {},
   "outputs": [
    {
     "name": "stdout",
     "output_type": "stream",
     "text": [
      "tf.Tensor([3.3924189], shape=(1,), dtype=float32)\n",
      "tf.Tensor([11.177257], shape=(1,), dtype=float32)\n",
      "tf.Tensor([34.53177], shape=(1,), dtype=float32)\n",
      "tf.Tensor([104.59531], shape=(1,), dtype=float32)\n",
      "tf.Tensor([314.78592], shape=(1,), dtype=float32)\n",
      "tf.Tensor([945.3578], shape=(1,), dtype=float32)\n",
      "tf.Tensor([2837.0732], shape=(1,), dtype=float32)\n",
      "tf.Tensor([8512.22], shape=(1,), dtype=float32)\n",
      "tf.Tensor([25537.66], shape=(1,), dtype=float32)\n",
      "tf.Tensor([76613.984], shape=(1,), dtype=float32)\n",
      "tf.Tensor([229842.95], shape=(1,), dtype=float32)\n",
      "tf.Tensor([689529.9], shape=(1,), dtype=float32)\n",
      "tf.Tensor([2068590.6], shape=(1,), dtype=float32)\n",
      "tf.Tensor([6205773.], shape=(1,), dtype=float32)\n",
      "tf.Tensor([18617320.], shape=(1,), dtype=float32)\n",
      "tf.Tensor([9308660.], shape=(1,), dtype=float32)\n",
      "tf.Tensor([4654330.], shape=(1,), dtype=float32)\n",
      "tf.Tensor([2327165.], shape=(1,), dtype=float32)\n",
      "tf.Tensor([6981496.], shape=(1,), dtype=float32)\n",
      "tf.Tensor([3490748.], shape=(1,), dtype=float32)\n",
      "tf.Tensor([1745374.], shape=(1,), dtype=float32)\n",
      "tf.Tensor([872687.], shape=(1,), dtype=float32)\n",
      "tf.Tensor([2618062.], shape=(1,), dtype=float32)\n",
      "tf.Tensor([1309031.], shape=(1,), dtype=float32)\n",
      "tf.Tensor([3927094.], shape=(1,), dtype=float32)\n",
      "tf.Tensor([1963547.], shape=(1,), dtype=float32)\n",
      "tf.Tensor([5890642.], shape=(1,), dtype=float32)\n",
      "tf.Tensor([2945321.], shape=(1,), dtype=float32)\n",
      "tf.Tensor([8835964.], shape=(1,), dtype=float32)\n",
      "tf.Tensor([4417982.], shape=(1,), dtype=float32)\n",
      "tf.Tensor([2208991.], shape=(1,), dtype=float32)\n",
      "tf.Tensor([6626974.], shape=(1,), dtype=float32)\n",
      "tf.Tensor([3313487.], shape=(1,), dtype=float32)\n",
      "tf.Tensor([9940462.], shape=(1,), dtype=float32)\n",
      "tf.Tensor([4970231.], shape=(1,), dtype=float32)\n",
      "tf.Tensor([14910694.], shape=(1,), dtype=float32)\n",
      "tf.Tensor([7455347.], shape=(1,), dtype=float32)\n",
      "tf.Tensor([22366040.], shape=(1,), dtype=float32)\n",
      "tf.Tensor([11183020.], shape=(1,), dtype=float32)\n",
      "tf.Tensor([5591510.], shape=(1,), dtype=float32)\n",
      "tf.Tensor([2795755.], shape=(1,), dtype=float32)\n",
      "tf.Tensor([8387266.], shape=(1,), dtype=float32)\n",
      "tf.Tensor([4193633.], shape=(1,), dtype=float32)\n",
      "tf.Tensor([12580900.], shape=(1,), dtype=float32)\n",
      "tf.Tensor([6290450.], shape=(1,), dtype=float32)\n",
      "tf.Tensor([3145225.], shape=(1,), dtype=float32)\n",
      "tf.Tensor([9435676.], shape=(1,), dtype=float32)\n",
      "tf.Tensor([4717838.], shape=(1,), dtype=float32)\n",
      "tf.Tensor([2358919.], shape=(1,), dtype=float32)\n",
      "tf.Tensor([7076758.], shape=(1,), dtype=float32)\n",
      "tf.Tensor([3538379.], shape=(1,), dtype=float32)\n",
      "tf.Tensor([10615138.], shape=(1,), dtype=float32)\n",
      "tf.Tensor([5307569.], shape=(1,), dtype=float32)\n",
      "tf.Tensor([15922708.], shape=(1,), dtype=float32)\n",
      "tf.Tensor([7961354.], shape=(1,), dtype=float32)\n",
      "tf.Tensor([3980677.], shape=(1,), dtype=float32)\n",
      "tf.Tensor([11942032.], shape=(1,), dtype=float32)\n",
      "tf.Tensor([5971016.], shape=(1,), dtype=float32)\n",
      "tf.Tensor([2985508.], shape=(1,), dtype=float32)\n",
      "tf.Tensor([1492754.], shape=(1,), dtype=float32)\n",
      "tf.Tensor([746377.], shape=(1,), dtype=float32)\n",
      "tf.Tensor([2239132.], shape=(1,), dtype=float32)\n",
      "tf.Tensor([1119566.], shape=(1,), dtype=float32)\n",
      "tf.Tensor([559783.], shape=(1,), dtype=float32)\n",
      "tf.Tensor([1679350.], shape=(1,), dtype=float32)\n",
      "tf.Tensor([839675.], shape=(1,), dtype=float32)\n",
      "tf.Tensor([2519026.], shape=(1,), dtype=float32)\n",
      "tf.Tensor([1259513.], shape=(1,), dtype=float32)\n",
      "tf.Tensor([3778540.], shape=(1,), dtype=float32)\n",
      "tf.Tensor([1889270.], shape=(1,), dtype=float32)\n",
      "tf.Tensor([944635.], shape=(1,), dtype=float32)\n",
      "tf.Tensor([2833906.], shape=(1,), dtype=float32)\n",
      "tf.Tensor([1416953.], shape=(1,), dtype=float32)\n",
      "tf.Tensor([4250860.], shape=(1,), dtype=float32)\n",
      "tf.Tensor([2125430.], shape=(1,), dtype=float32)\n",
      "tf.Tensor([1062715.], shape=(1,), dtype=float32)\n",
      "tf.Tensor([3188146.], shape=(1,), dtype=float32)\n",
      "tf.Tensor([1594073.], shape=(1,), dtype=float32)\n",
      "tf.Tensor([4782220.], shape=(1,), dtype=float32)\n",
      "tf.Tensor([2391110.], shape=(1,), dtype=float32)\n",
      "tf.Tensor([1195555.], shape=(1,), dtype=float32)\n",
      "tf.Tensor([3586666.], shape=(1,), dtype=float32)\n",
      "tf.Tensor([1793333.], shape=(1,), dtype=float32)\n",
      "tf.Tensor([5380000.], shape=(1,), dtype=float32)\n",
      "tf.Tensor([2690000.], shape=(1,), dtype=float32)\n",
      "tf.Tensor([1345000.], shape=(1,), dtype=float32)\n",
      "tf.Tensor([672500.], shape=(1,), dtype=float32)\n",
      "tf.Tensor([336250.], shape=(1,), dtype=float32)\n",
      "tf.Tensor([168125.], shape=(1,), dtype=float32)\n",
      "tf.Tensor([504376.], shape=(1,), dtype=float32)\n",
      "tf.Tensor([252188.], shape=(1,), dtype=float32)\n",
      "tf.Tensor([126094.], shape=(1,), dtype=float32)\n",
      "tf.Tensor([63047.], shape=(1,), dtype=float32)\n",
      "tf.Tensor([189142.], shape=(1,), dtype=float32)\n",
      "tf.Tensor([94571.], shape=(1,), dtype=float32)\n",
      "tf.Tensor([283714.], shape=(1,), dtype=float32)\n",
      "tf.Tensor([141857.], shape=(1,), dtype=float32)\n",
      "tf.Tensor([425572.], shape=(1,), dtype=float32)\n",
      "tf.Tensor([212786.], shape=(1,), dtype=float32)\n",
      "tf.Tensor([106393.], shape=(1,), dtype=float32)\n",
      "tf.Tensor([319180.], shape=(1,), dtype=float32)\n",
      "tf.Tensor([159590.], shape=(1,), dtype=float32)\n",
      "tf.Tensor([79795.], shape=(1,), dtype=float32)\n",
      "tf.Tensor([239386.], shape=(1,), dtype=float32)\n",
      "tf.Tensor([119693.], shape=(1,), dtype=float32)\n",
      "tf.Tensor([359080.], shape=(1,), dtype=float32)\n",
      "tf.Tensor([179540.], shape=(1,), dtype=float32)\n",
      "tf.Tensor([89770.], shape=(1,), dtype=float32)\n",
      "tf.Tensor([44885.], shape=(1,), dtype=float32)\n",
      "tf.Tensor([134656.], shape=(1,), dtype=float32)\n",
      "tf.Tensor([67328.], shape=(1,), dtype=float32)\n",
      "tf.Tensor([33664.], shape=(1,), dtype=float32)\n",
      "tf.Tensor([16832.], shape=(1,), dtype=float32)\n",
      "tf.Tensor([8416.], shape=(1,), dtype=float32)\n",
      "tf.Tensor([4208.], shape=(1,), dtype=float32)\n",
      "tf.Tensor([2104.], shape=(1,), dtype=float32)\n",
      "tf.Tensor([1052.], shape=(1,), dtype=float32)\n",
      "tf.Tensor([526.], shape=(1,), dtype=float32)\n",
      "tf.Tensor([263.], shape=(1,), dtype=float32)\n",
      "tf.Tensor([790.], shape=(1,), dtype=float32)\n",
      "tf.Tensor([395.], shape=(1,), dtype=float32)\n",
      "tf.Tensor([1186.], shape=(1,), dtype=float32)\n",
      "tf.Tensor([593.], shape=(1,), dtype=float32)\n",
      "tf.Tensor([1780.], shape=(1,), dtype=float32)\n",
      "tf.Tensor([890.], shape=(1,), dtype=float32)\n",
      "tf.Tensor([445.], shape=(1,), dtype=float32)\n",
      "tf.Tensor([1336.], shape=(1,), dtype=float32)\n",
      "tf.Tensor([668.], shape=(1,), dtype=float32)\n",
      "tf.Tensor([334.], shape=(1,), dtype=float32)\n",
      "tf.Tensor([167.], shape=(1,), dtype=float32)\n",
      "tf.Tensor([502.], shape=(1,), dtype=float32)\n",
      "tf.Tensor([251.], shape=(1,), dtype=float32)\n",
      "tf.Tensor([754.], shape=(1,), dtype=float32)\n",
      "tf.Tensor([377.], shape=(1,), dtype=float32)\n",
      "tf.Tensor([1132.], shape=(1,), dtype=float32)\n",
      "tf.Tensor([566.], shape=(1,), dtype=float32)\n",
      "tf.Tensor([283.], shape=(1,), dtype=float32)\n",
      "tf.Tensor([850.], shape=(1,), dtype=float32)\n",
      "tf.Tensor([425.], shape=(1,), dtype=float32)\n",
      "tf.Tensor([1276.], shape=(1,), dtype=float32)\n",
      "tf.Tensor([638.], shape=(1,), dtype=float32)\n",
      "tf.Tensor([319.], shape=(1,), dtype=float32)\n",
      "tf.Tensor([958.], shape=(1,), dtype=float32)\n",
      "tf.Tensor([479.], shape=(1,), dtype=float32)\n",
      "tf.Tensor([1438.], shape=(1,), dtype=float32)\n",
      "tf.Tensor([719.], shape=(1,), dtype=float32)\n",
      "tf.Tensor([2158.], shape=(1,), dtype=float32)\n",
      "tf.Tensor([1079.], shape=(1,), dtype=float32)\n",
      "tf.Tensor([3238.], shape=(1,), dtype=float32)\n",
      "tf.Tensor([1619.], shape=(1,), dtype=float32)\n",
      "tf.Tensor([4858.], shape=(1,), dtype=float32)\n",
      "tf.Tensor([2429.], shape=(1,), dtype=float32)\n",
      "tf.Tensor([7288.], shape=(1,), dtype=float32)\n",
      "tf.Tensor([3644.], shape=(1,), dtype=float32)\n",
      "tf.Tensor([1822.], shape=(1,), dtype=float32)\n",
      "tf.Tensor([911.], shape=(1,), dtype=float32)\n",
      "tf.Tensor([2734.], shape=(1,), dtype=float32)\n",
      "tf.Tensor([1367.], shape=(1,), dtype=float32)\n",
      "tf.Tensor([4102.], shape=(1,), dtype=float32)\n",
      "tf.Tensor([2051.], shape=(1,), dtype=float32)\n",
      "tf.Tensor([6154.], shape=(1,), dtype=float32)\n",
      "tf.Tensor([3077.], shape=(1,), dtype=float32)\n",
      "tf.Tensor([9232.], shape=(1,), dtype=float32)\n",
      "tf.Tensor([4616.], shape=(1,), dtype=float32)\n",
      "tf.Tensor([2308.], shape=(1,), dtype=float32)\n",
      "tf.Tensor([1154.], shape=(1,), dtype=float32)\n",
      "tf.Tensor([577.], shape=(1,), dtype=float32)\n",
      "tf.Tensor([1732.], shape=(1,), dtype=float32)\n",
      "tf.Tensor([866.], shape=(1,), dtype=float32)\n",
      "tf.Tensor([433.], shape=(1,), dtype=float32)\n",
      "tf.Tensor([1300.], shape=(1,), dtype=float32)\n",
      "tf.Tensor([650.], shape=(1,), dtype=float32)\n",
      "tf.Tensor([325.], shape=(1,), dtype=float32)\n",
      "tf.Tensor([976.], shape=(1,), dtype=float32)\n",
      "tf.Tensor([488.], shape=(1,), dtype=float32)\n",
      "tf.Tensor([244.], shape=(1,), dtype=float32)\n",
      "tf.Tensor([122.], shape=(1,), dtype=float32)\n",
      "tf.Tensor([61.], shape=(1,), dtype=float32)\n",
      "tf.Tensor([184.], shape=(1,), dtype=float32)\n",
      "tf.Tensor([92.], shape=(1,), dtype=float32)\n",
      "tf.Tensor([46.], shape=(1,), dtype=float32)\n",
      "tf.Tensor([23.], shape=(1,), dtype=float32)\n",
      "tf.Tensor([70.], shape=(1,), dtype=float32)\n",
      "tf.Tensor([35.], shape=(1,), dtype=float32)\n",
      "tf.Tensor([106.], shape=(1,), dtype=float32)\n",
      "tf.Tensor([53.], shape=(1,), dtype=float32)\n",
      "tf.Tensor([160.], shape=(1,), dtype=float32)\n",
      "tf.Tensor([80.], shape=(1,), dtype=float32)\n",
      "tf.Tensor([40.], shape=(1,), dtype=float32)\n",
      "tf.Tensor([20.], shape=(1,), dtype=float32)\n",
      "tf.Tensor([10.], shape=(1,), dtype=float32)\n",
      "tf.Tensor([5.], shape=(1,), dtype=float32)\n",
      "tf.Tensor([16.], shape=(1,), dtype=float32)\n",
      "tf.Tensor([8.], shape=(1,), dtype=float32)\n",
      "tf.Tensor([4.], shape=(1,), dtype=float32)\n",
      "tf.Tensor([2.], shape=(1,), dtype=float32)\n",
      "tf.Tensor([1.], shape=(1,), dtype=float32)\n",
      "197\n"
     ]
    }
   ],
   "source": [
    "a = tf.constant(tf.random.uniform([1]))\n",
    "counter = 0\n",
    "while not tf.equal(a, 1):\n",
    "  counter+=1\n",
    "  if tf.equal(a % 2, 0):\n",
    "    a = a / 2\n",
    "  else:\n",
    "    a = 3 * a + 1\n",
    "  print(a)\n",
    "print(counter)"
   ]
  },
  {
   "cell_type": "code",
   "execution_count": null,
   "metadata": {},
   "outputs": [],
   "source": []
  }
 ],
 "metadata": {
  "kernelspec": {
   "display_name": "Python [conda env:py36]",
   "language": "python",
   "name": "conda-env-py36-py"
  },
  "language_info": {
   "codemirror_mode": {
    "name": "ipython",
    "version": 3
   },
   "file_extension": ".py",
   "mimetype": "text/x-python",
   "name": "python",
   "nbconvert_exporter": "python",
   "pygments_lexer": "ipython3",
   "version": "3.6.10"
  }
 },
 "nbformat": 4,
 "nbformat_minor": 2
}
